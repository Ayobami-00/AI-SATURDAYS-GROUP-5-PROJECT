{
  "nbformat": 4,
  "nbformat_minor": 0,
  "metadata": {
    "colab": {
      "name": "Copy of Group Project BenchMark Fashion MNIST.ipynb",
      "version": "0.3.2",
      "provenance": [],
      "collapsed_sections": [
        "oSFuvfiKUXaU",
        "tdsl7Fc9VIMj",
        "16lHWmTLZ4yz",
        "TYN3t19Eaxj0"
      ]
    },
    "kernelspec": {
      "name": "python3",
      "display_name": "Python 3"
    },
    "accelerator": "GPU"
  },
  "cells": [
    {
      "metadata": {
        "id": "k5EhE2tn2PXs",
        "colab_type": "text"
      },
      "cell_type": "markdown",
      "source": [
        "# Group Project\n",
        "\n",
        "This notebook along with the [TensorFlow and deep learning, without a PhD](https://codelabs.developers.google.com/codelabs/cloud-tensorflow-mnist/#0) codelabs should serve as a starter guide for your group projects. For the project, you are to build a model that achieves a minimum of 96% accuracy for a classification task on the MNIST dataset. This can be achieved by several methods, but you are required to follow some certain steps as outlined below:\n",
        "\n",
        "1. Load the mnist dataset from tensorflow. This consists of the train, validation, and test sets.\n",
        "    The train set has 55000 examples,\n",
        "    The validation set has 5000 examples, and\n",
        "    the test set has 10000 examples.\n",
        "    \n",
        "2. Visualize the examples in each set.\n",
        " \n",
        "3. Build a softmax regression model (a 1 layer neural network)and train it on the dataset.\n",
        "\n",
        "4. Add a hidden layer of 200 neurons, use sigmoid activation for hidden units, train and obtain train, validation and test accuracies and loss\n",
        "\n",
        "5. Build a five layers neural network with sigmoid activation\n",
        "\n",
        "6. Replace the sigmoid activations with relu\n",
        "\n",
        "7. Introduce learning rate decay\n",
        "\n",
        "8. Use dropout\n",
        "\n",
        "9. Convolutional Neural Networks\n"
      ]
    },
    {
      "metadata": {
        "id": "KuW0P6x22MJG",
        "colab_type": "code",
        "colab": {
          "base_uri": "https://localhost:8080/",
          "height": 530
        },
        "cellView": "form",
        "outputId": "bb40efed-d174-4be8-ac95-b6437516f5a5"
      },
      "cell_type": "code",
      "source": [
        "#@title All imports and Initializations(RUN THIS CELL!)\n",
        "'''\n",
        "Obtain MNIST dataset using tensorflow\n",
        "'''\n",
        "import tensorflow as tf\n",
        "import math\n",
        "import numpy as np\n",
        "from tensorflow.examples.tutorials.mnist import input_data\n",
        "import matplotlib.pyplot as plt\n",
        "\n",
        "mnist = input_data.read_data_sets('data/fashion', source_url='http://fashion-mnist.s3-website.eu-central-1.amazonaws.com/', one_hot=True)\n",
        "\n",
        "fashion_class = {0:'shirt/top',\n",
        "                1: \t'Trouser',\n",
        "                2: \t'Pullover',\n",
        "                3: \t'Dress',\n",
        "                4: \t'Coat',\n",
        "                5: \t'Sandal',\n",
        "                6: \t'Shirt',\n",
        "                7: \t'Sneaker',\n",
        "                8: \t'Bag',\n",
        "                9: \t'Ankle boot'\n",
        "                }\n",
        "\n",
        "def view_image(x,y):\n",
        "  '''\n",
        "  View 10 random images from a dataset\n",
        "  \n",
        "  input:\n",
        "    x => ndarray[of shape (m x n)] (examples)\n",
        "    y => ndarray[of shape (m x c)] (onehot encoded)\n",
        "          m = no of examples\n",
        "          c = no of classes\n",
        "  output:\n",
        "    None.\n",
        "   \n",
        "  '''\n",
        "  f, axarr = plt.subplots(2,5)\n",
        "  \n",
        "  for ax in f.axes:\n",
        "    i = np.random.randint(x.shape[0]) # pick a random example (ith example)\n",
        "    ax.get_xaxis().set_ticks([]) # don't label the xaxis\n",
        "    ax.get_yaxis().set_ticks([]) # don't label the yais\n",
        "    ax.text(0,0, fashion_class[np.argmax(y[i])]) # display a text containing the ith example's class\n",
        "    ax.imshow(x[i].reshape(28,28)) # display the ith example\n",
        "\n",
        "    \n",
        "    \n",
        "# This function does the training\n",
        "\n",
        "def training(X_train, y_train, X_val, y_val, sess, epochs = 1, mini_batch = 100, step=None, pkeep=None):\n",
        "  \n",
        "    '''\n",
        "    **arguments**\n",
        "    X_train:\n",
        "      The input feature matrix\n",
        "    y_train:\n",
        "      The output true label\n",
        "    X_val:\n",
        "      The validation set feature matrix\n",
        "    y_val:\n",
        "      The validation set true label\n",
        "    sess:\n",
        "      A tensorflow session to run the computational graph\n",
        "    epochs:\n",
        "      No of times to run through the entire examples \n",
        "    mini_batch:\n",
        "      No of examples to use in each train step\n",
        "      \n",
        "      \n",
        "    **returns**\n",
        "    history: tuple\n",
        "      a tuple containing the train and validation accuracies and losses\n",
        "      \n",
        "    '''\n",
        "    \n",
        "    accuracies = []\n",
        "    loss = []\n",
        "    accuracies_validation = []\n",
        "    loss_validation = []\n",
        "    \n",
        "    steps_per_epoch = int(X_train.shape[0]/mini_batch)\n",
        "    training_steps = epochs * steps_per_epoch\n",
        "  \n",
        "    for i in range(1,training_steps+1):\n",
        "      # pick a mini batch from the training\n",
        "      s = i%steps_per_epoch\n",
        "      batch_X, batch_Y = X_train[(s-1)*mini_batch:(s)*mini_batch], y_train[(s-1)*mini_batch:(s)*mini_batch]\n",
        "\n",
        "      # compute train/validation loss and accuracy\n",
        "      if i%steps_per_epoch == 0:\n",
        "          # train\n",
        "          if(step != None and pkeep == None):\n",
        "            a, c = sess.run([accuracy, cross_entropy], feed_dict={X: X_train, y: y_train})\n",
        "          if(step == None and pkeep != None):\n",
        "            a, c = sess.run([accuracy, cross_entropy], feed_dict={X: X_train, y: y_train, pkeep_val: pkeep})\n",
        "          if(step != None and pkeep != None):\n",
        "            a, c = sess.run([accuracy, cross_entropy], feed_dict={X: X_train, y: y_train, pkeep_val: pkeep})\n",
        "          if(step == None and pkeep == None):\n",
        "            a, c = sess.run([accuracy, cross_entropy], feed_dict={X: X_train, y: y_train})\n",
        "          loss.append(c)\n",
        "          accuracies.append(a)\n",
        "          print(\"EPOCH \" + str(i/steps_per_epoch) + \"\\n\" + \" train accuracy:\" + str(a) + \"train loss: \" + str(c))\n",
        "          \n",
        "          # validation\n",
        "          if(step != None and pkeep == None):\n",
        "            a, c = sess.run([accuracy, cross_entropy], feed_dict={X: X_val, y: y_val})\n",
        "          if(step == None and pkeep != None):\n",
        "            a, c = sess.run([accuracy, cross_entropy], feed_dict={X: X_val, y: y_val, pkeep_val: 1})\n",
        "          if(step != None and pkeep != None):\n",
        "            a, c = sess.run([accuracy, cross_entropy], feed_dict={X: X_val, y: y_val, pkeep_val: 1})\n",
        "          if(step == None and pkeep == None):\n",
        "            a, c = sess.run([accuracy, cross_entropy], feed_dict={X: X_val, y: y_val})\n",
        "         \n",
        "          loss_validation.append(c)\n",
        "          accuracies_validation.append(a)\n",
        "          print(\" ********* validation accuracy:\" + str(a) + \" validation loss: \" + str(c))\n",
        "\n",
        "      # the backpropagation training step\n",
        "     \n",
        "      if(step != None and pkeep == None):\n",
        "        sess.run(train_step, feed_dict={X: batch_X, y: batch_Y, step_val: i})\n",
        "      if(step == None and pkeep != None):\n",
        "        sess.run(train_step, feed_dict={X: batch_X, y: batch_Y, pkeep_val: pkeep})\n",
        "      if(step != None and pkeep != None):\n",
        "        sess.run([train_step], feed_dict={X: X_val, y: y_val, step_val: i, pkeep_val: pkeep})\n",
        "      if(step == None and pkeep == None):\n",
        "        sess.run(train_step, feed_dict={X: X_val, y: y_val})\n",
        "         \n",
        "      \n",
        "      history = (accuracies, loss, accuracies_validation, loss_validation)\n",
        "      \n",
        "    return history\n",
        "  \n",
        "\n",
        "\n",
        "def plot_history(history):\n",
        "  accuracies, loss, accuracies_validation, loss_validation = history\n",
        "  f, ax = plt.subplots(2,2)\n",
        "  ax[0,0].plot(accuracies)\n",
        "  ax[0,0].set(xlabel='epochs', ylabel='train_accuracy')\n",
        "\n",
        "  ax[0,1].plot(loss )\n",
        "  ax[0,1].set(xlabel='epochs', ylabel='train_loss')\n",
        "\n",
        "  ax[1,0].plot(accuracies_validation)\n",
        "  ax[1,0].set(xlabel='epochs', ylabel='val_accuracy')\n",
        "\n",
        "\n",
        "  ax[1,1].plot(loss_validation)\n",
        "  ax[1,1].set(xlabel='epochs', ylabel='val_loss')\n",
        "  "
      ],
      "execution_count": 0,
      "outputs": [
        {
          "output_type": "stream",
          "text": [
            "WARNING:tensorflow:From <ipython-input-1-82415803995a>:10: read_data_sets (from tensorflow.contrib.learn.python.learn.datasets.mnist) is deprecated and will be removed in a future version.\n",
            "Instructions for updating:\n",
            "Please use alternatives such as official/mnist/dataset.py from tensorflow/models.\n",
            "WARNING:tensorflow:From /usr/local/lib/python3.6/dist-packages/tensorflow/contrib/learn/python/learn/datasets/mnist.py:260: maybe_download (from tensorflow.contrib.learn.python.learn.datasets.base) is deprecated and will be removed in a future version.\n",
            "Instructions for updating:\n",
            "Please write your own downloading logic.\n",
            "WARNING:tensorflow:From /usr/local/lib/python3.6/dist-packages/tensorflow/contrib/learn/python/learn/datasets/base.py:252: _internal_retry.<locals>.wrap.<locals>.wrapped_fn (from tensorflow.contrib.learn.python.learn.datasets.base) is deprecated and will be removed in a future version.\n",
            "Instructions for updating:\n",
            "Please use urllib or similar directly.\n",
            "Successfully downloaded train-images-idx3-ubyte.gz 26421880 bytes.\n",
            "WARNING:tensorflow:From /usr/local/lib/python3.6/dist-packages/tensorflow/contrib/learn/python/learn/datasets/mnist.py:262: extract_images (from tensorflow.contrib.learn.python.learn.datasets.mnist) is deprecated and will be removed in a future version.\n",
            "Instructions for updating:\n",
            "Please use tf.data to implement this functionality.\n",
            "Extracting data/fashion/train-images-idx3-ubyte.gz\n",
            "Successfully downloaded train-labels-idx1-ubyte.gz 29515 bytes.\n",
            "WARNING:tensorflow:From /usr/local/lib/python3.6/dist-packages/tensorflow/contrib/learn/python/learn/datasets/mnist.py:267: extract_labels (from tensorflow.contrib.learn.python.learn.datasets.mnist) is deprecated and will be removed in a future version.\n",
            "Instructions for updating:\n",
            "Please use tf.data to implement this functionality.\n",
            "Extracting data/fashion/train-labels-idx1-ubyte.gz\n",
            "WARNING:tensorflow:From /usr/local/lib/python3.6/dist-packages/tensorflow/contrib/learn/python/learn/datasets/mnist.py:110: dense_to_one_hot (from tensorflow.contrib.learn.python.learn.datasets.mnist) is deprecated and will be removed in a future version.\n",
            "Instructions for updating:\n",
            "Please use tf.one_hot on tensors.\n",
            "Successfully downloaded t10k-images-idx3-ubyte.gz 4422102 bytes.\n",
            "Extracting data/fashion/t10k-images-idx3-ubyte.gz\n",
            "Successfully downloaded t10k-labels-idx1-ubyte.gz 5148 bytes.\n",
            "Extracting data/fashion/t10k-labels-idx1-ubyte.gz\n",
            "WARNING:tensorflow:From /usr/local/lib/python3.6/dist-packages/tensorflow/contrib/learn/python/learn/datasets/mnist.py:290: DataSet.__init__ (from tensorflow.contrib.learn.python.learn.datasets.mnist) is deprecated and will be removed in a future version.\n",
            "Instructions for updating:\n",
            "Please use alternatives such as official/mnist/dataset.py from tensorflow/models.\n"
          ],
          "name": "stdout"
        }
      ]
    },
    {
      "metadata": {
        "id": "mIq-UYMV7lPM",
        "colab_type": "text"
      },
      "cell_type": "markdown",
      "source": [
        "## 1. Load the dataset\n",
        "for the train set, x_train contains the 55000 train images and y_train contains the onehot encoded label. Same applies to the validation and test set\n"
      ]
    },
    {
      "metadata": {
        "id": "54JONBsi2og5",
        "colab_type": "code",
        "colab": {}
      },
      "cell_type": "code",
      "source": [
        "x_train = mnist.train.images\n",
        "y_train = mnist.train.labels\n",
        "x_val = mnist.validation.images\n",
        "y_val = mnist.validation.labels\n",
        "x_test = mnist.test.images\n",
        "y_test = mnist.test.labels"
      ],
      "execution_count": 0,
      "outputs": []
    },
    {
      "metadata": {
        "id": "fyGSjVYm8QF5",
        "colab_type": "text"
      },
      "cell_type": "markdown",
      "source": [
        "The train images are 28x28 gray scale images. But the loaded images are flattened to be of size (1x784). Hence the size of the train set images is 55000 by 784. this means that there are 55000 examples of size (28*28=784). The same applies to the validation and test set"
      ]
    },
    {
      "metadata": {
        "id": "W0pFX8d_7fON",
        "colab_type": "code",
        "colab": {
          "base_uri": "https://localhost:8080/",
          "height": 68
        },
        "outputId": "dcd1d3ed-5328-400c-fb95-455857ce1eeb"
      },
      "cell_type": "code",
      "source": [
        "print('shape of train set is: {0}, this means that it has {1} examples'.format(x_train.shape, x_train.shape[0]))\n",
        "print('shape of validation set is: {0}, this means that it has {1} examples'.format(x_val.shape, x_val.shape[0]))\n",
        "print('shape of test set is: {0}, this means that it has {1} examples'.format(x_test.shape, x_test.shape[0]))"
      ],
      "execution_count": 0,
      "outputs": [
        {
          "output_type": "stream",
          "text": [
            "shape of train set is: (55000, 784), this means that it has 55000 examples\n",
            "shape of validation set is: (5000, 784), this means that it has 5000 examples\n",
            "shape of test set is: (10000, 784), this means that it has 10000 examples\n"
          ],
          "name": "stdout"
        }
      ]
    },
    {
      "metadata": {
        "id": "5bK94_BcKgpt",
        "colab_type": "text"
      },
      "cell_type": "markdown",
      "source": [
        "## 2. Visualize examples in each set"
      ]
    },
    {
      "metadata": {
        "id": "_WlCHS7PAsIo",
        "colab_type": "text"
      },
      "cell_type": "markdown",
      "source": [
        "View 10 random examples from train, validation and test set\n"
      ]
    },
    {
      "metadata": {
        "id": "45qVB5rpG6Su",
        "colab_type": "text"
      },
      "cell_type": "markdown",
      "source": [
        "View 10 random images from the train set"
      ]
    },
    {
      "metadata": {
        "id": "yfAfgPptB-se",
        "colab_type": "code",
        "colab": {
          "base_uri": "https://localhost:8080/",
          "height": 279
        },
        "outputId": "9fc79c52-9f09-4e86-e1f9-85d7163601ab"
      },
      "cell_type": "code",
      "source": [
        "view_image(x_train, y_train)"
      ],
      "execution_count": 0,
      "outputs": [
        {
          "output_type": "display_data",
          "data": {
            "image/png": "[encoded data removed]",
            "text/plain": [
              "<matplotlib.figure.Figure at 0x7f6260b7a438>"
            ]
          },
          "metadata": {
            "tags": []
          }
        }
      ]
    },
    {
      "metadata": {
        "id": "awn7v9iZJcIo",
        "colab_type": "text"
      },
      "cell_type": "markdown",
      "source": [
        "View 10 random images from the validation set"
      ]
    },
    {
      "metadata": {
        "id": "RIgM8j_U-VLb",
        "colab_type": "code",
        "colab": {
          "base_uri": "https://localhost:8080/",
          "height": 279
        },
        "outputId": "2b330096-3827-4a1a-a2b5-92d8b5454af5"
      },
      "cell_type": "code",
      "source": [
        "view_image(x_val, y_val)"
      ],
      "execution_count": 0,
      "outputs": [
        {
          "output_type": "display_data",
          "data": {
            "image/png": "[encoded data removed]",
            "text/plain": [
              "<matplotlib.figure.Figure at 0x7f621269a470>"
            ]
          },
          "metadata": {
            "tags": []
          }
        }
      ]
    },
    {
      "metadata": {
        "id": "dhFTCTnHJgCP",
        "colab_type": "text"
      },
      "cell_type": "markdown",
      "source": [
        "View 10 random images from the test set"
      ]
    },
    {
      "metadata": {
        "id": "uRupYMZdCA58",
        "colab_type": "code",
        "colab": {
          "base_uri": "https://localhost:8080/",
          "height": 279
        },
        "outputId": "8c2dbc0d-ef51-4ea9-bb08-4796afae2c91"
      },
      "cell_type": "code",
      "source": [
        "view_image(x_test, y_test)"
      ],
      "execution_count": 0,
      "outputs": [
        {
          "output_type": "display_data",
          "data": {
            "image/png": "[encoded data removed]",
            "text/plain": [
              "<matplotlib.figure.Figure at 0x7f6260b7a128>"
            ]
          },
          "metadata": {
            "tags": []
          }
        }
      ]
    },
    {
      "metadata": {
        "id": "LIluzD0HLuW6",
        "colab_type": "text"
      },
      "cell_type": "markdown",
      "source": [
        "## 3. Build a softmax regression model (a 1 layer neural network)and train it on the dataset.\n",
        "\n",
        "\n",
        "Build Computational Graph"
      ]
    },
    {
      "metadata": {
        "id": "8KVATReeJXo_",
        "colab_type": "code",
        "colab": {}
      },
      "cell_type": "code",
      "source": [
        "# input \n",
        "X = tf.placeholder(tf.float32, [None,784])\n",
        "# labels (onehot encoded)\n",
        "y = tf.placeholder(tf.float32, [None, 10])\n",
        "# weights\n",
        "W = tf.Variable(tf.zeros([784, 10]))\n",
        "# biases\n",
        "b = tf.Variable(tf.zeros([10]))\n",
        "\n",
        "# weigthed sum\n",
        "z = tf.matmul(X, W) + b\n",
        "\n",
        "# softmax activation\n",
        "h = tf.nn.softmax(z)\n",
        "\n",
        "# softmax cross entropy loss\n",
        "cross_entropy = -tf.reduce_mean(y * tf.log(h))\n",
        "\n",
        "# accuracy of the trained model, between 0 (worst) and 1 (best)\n",
        "correct_prediction = tf.equal(tf.argmax(h, 1), tf.argmax(y, 1))\n",
        "accuracy = tf.reduce_mean(tf.cast(correct_prediction, tf.float32))\n",
        "\n",
        "# training, learning rate = 0.005\n",
        "# learning rate\n",
        "lr = 0.05\n",
        "train_step = tf.train.GradientDescentOptimizer(lr).minimize(cross_entropy)\n"
      ],
      "execution_count": 0,
      "outputs": []
    },
    {
      "metadata": {
        "id": "ZWHM-c3bBcYn",
        "colab_type": "text"
      },
      "cell_type": "markdown",
      "source": [
        "Start the session"
      ]
    },
    {
      "metadata": {
        "id": "p67DYcSDU0La",
        "colab_type": "code",
        "colab": {}
      },
      "cell_type": "code",
      "source": [
        "# initialize all variables\n",
        "init = tf.global_variables_initializer()\n",
        "sess = tf.Session()\n",
        "sess.run(init)\n"
      ],
      "execution_count": 0,
      "outputs": []
    },
    {
      "metadata": {
        "id": "KeJzsGiRAhqw",
        "colab_type": "text"
      },
      "cell_type": "markdown",
      "source": [
        "Train for 100 epochs"
      ]
    },
    {
      "metadata": {
        "id": "tG4i3jLk4a8a",
        "colab_type": "code",
        "colab": {
          "base_uri": "https://localhost:8080/",
          "height": 5117
        },
        "outputId": "00369f54-4ee9-4063-8788-e3780ee53e16"
      },
      "cell_type": "code",
      "source": [
        "history = training(x_train, y_train, x_val, y_val, sess, epochs=100)"
      ],
      "execution_count": 0,
      "outputs": [
        {
          "output_type": "stream",
          "text": [
            "EPOCH 1.0\n",
            " train accuracy:0.6953818train loss: 0.09748107\n",
            " ********* validation accuracy:0.7118 validation loss: 0.0950911\n",
            "EPOCH 2.0\n",
            " train accuracy:0.7402train loss: 0.081834316\n",
            " ********* validation accuracy:0.7562 validation loss: 0.07904902\n",
            "EPOCH 3.0\n",
            " train accuracy:0.7607273train loss: 0.07475728\n",
            " ********* validation accuracy:0.7794 validation loss: 0.071665175\n",
            "EPOCH 4.0\n",
            " train accuracy:0.7740545train loss: 0.07041458\n",
            " ********* validation accuracy:0.7934 validation loss: 0.067059115\n",
            "EPOCH 5.0\n",
            " train accuracy:0.78334546train loss: 0.067379616\n",
            " ********* validation accuracy:0.8022 validation loss: 0.06378555\n",
            "EPOCH 6.0\n",
            " train accuracy:0.7894545train loss: 0.0650997\n",
            " ********* validation accuracy:0.81 validation loss: 0.06128302\n",
            "EPOCH 7.0\n",
            " train accuracy:0.7950364train loss: 0.06330534\n",
            " ********* validation accuracy:0.8182 validation loss: 0.059277657\n",
            "EPOCH 8.0\n",
            " train accuracy:0.79890907train loss: 0.06184602\n",
            " ********* validation accuracy:0.8222 validation loss: 0.05761658\n",
            "EPOCH 9.0\n",
            " train accuracy:0.8016train loss: 0.06062972\n",
            " ********* validation accuracy:0.8282 validation loss: 0.056206338\n",
            "EPOCH 10.0\n",
            " train accuracy:0.80472726train loss: 0.05959649\n",
            " ********* validation accuracy:0.8332 validation loss: 0.054986008\n",
            "EPOCH 11.0\n",
            " train accuracy:0.8071273train loss: 0.05870528\n",
            " ********* validation accuracy:0.8346 validation loss: 0.05391383\n",
            "EPOCH 12.0\n",
            " train accuracy:0.80898184train loss: 0.0579269\n",
            " ********* validation accuracy:0.8374 validation loss: 0.05296008\n",
            "EPOCH 13.0\n",
            " train accuracy:0.8108182train loss: 0.057239924\n",
            " ********* validation accuracy:0.8396 validation loss: 0.052102856\n",
            "EPOCH 14.0\n",
            " train accuracy:0.81267273train loss: 0.05662824\n",
            " ********* validation accuracy:0.8406 validation loss: 0.05132566\n",
            "EPOCH 15.0\n",
            " train accuracy:0.8137091train loss: 0.056079432\n",
            " ********* validation accuracy:0.8426 validation loss: 0.050615743\n",
            "EPOCH 16.0\n",
            " train accuracy:0.8153273train loss: 0.055583786\n",
            " ********* validation accuracy:0.8448 validation loss: 0.049963076\n",
            "EPOCH 17.0\n",
            " train accuracy:0.8167091train loss: 0.05513354\n",
            " ********* validation accuracy:0.845 validation loss: 0.049359657\n",
            "EPOCH 18.0\n",
            " train accuracy:0.81796366train loss: 0.05472247\n",
            " ********* validation accuracy:0.8478 validation loss: 0.048798993\n",
            "EPOCH 19.0\n",
            " train accuracy:0.81887275train loss: 0.054345433\n",
            " ********* validation accuracy:0.8492 validation loss: 0.048275758\n",
            "EPOCH 20.0\n",
            " train accuracy:0.8198train loss: 0.053998236\n",
            " ********* validation accuracy:0.85 validation loss: 0.047785513\n",
            "EPOCH 21.0\n",
            " train accuracy:0.8207273train loss: 0.053677328\n",
            " ********* validation accuracy:0.8514 validation loss: 0.04732456\n",
            "EPOCH 22.0\n",
            " train accuracy:0.8218train loss: 0.05337975\n",
            " ********* validation accuracy:0.854 validation loss: 0.04688977\n",
            "EPOCH 23.0\n",
            " train accuracy:0.8224train loss: 0.053102978\n",
            " ********* validation accuracy:0.8548 validation loss: 0.046478458\n",
            "EPOCH 24.0\n",
            " train accuracy:0.8232727train loss: 0.05284486\n",
            " ********* validation accuracy:0.8556 validation loss: 0.046088334\n",
            "EPOCH 25.0\n",
            " train accuracy:0.8243091train loss: 0.052603535\n",
            " ********* validation accuracy:0.8568 validation loss: 0.04571742\n",
            "EPOCH 26.0\n",
            " train accuracy:0.8247455train loss: 0.052377403\n",
            " ********* validation accuracy:0.8576 validation loss: 0.045363974\n",
            "EPOCH 27.0\n",
            " train accuracy:0.82525456train loss: 0.05216506\n",
            " ********* validation accuracy:0.8584 validation loss: 0.045026492\n",
            "EPOCH 28.0\n",
            " train accuracy:0.82565457train loss: 0.051965278\n",
            " ********* validation accuracy:0.8592 validation loss: 0.04470365\n",
            "EPOCH 29.0\n",
            " train accuracy:0.8259636train loss: 0.051776975\n",
            " ********* validation accuracy:0.8604 validation loss: 0.044394266\n",
            "EPOCH 30.0\n",
            " train accuracy:0.8263636train loss: 0.051599197\n",
            " ********* validation accuracy:0.8612 validation loss: 0.044097304\n",
            "EPOCH 31.0\n",
            " train accuracy:0.8267273train loss: 0.05143111\n",
            " ********* validation accuracy:0.862 validation loss: 0.04381184\n",
            "EPOCH 32.0\n",
            " train accuracy:0.8272182train loss: 0.051271938\n",
            " ********* validation accuracy:0.863 validation loss: 0.043537028\n",
            "EPOCH 33.0\n",
            " train accuracy:0.8273091train loss: 0.05112103\n",
            " ********* validation accuracy:0.8638 validation loss: 0.043272134\n",
            "EPOCH 34.0\n",
            " train accuracy:0.8277818train loss: 0.05097775\n",
            " ********* validation accuracy:0.8644 validation loss: 0.04301648\n",
            "EPOCH 35.0\n",
            " train accuracy:0.8283455train loss: 0.05084158\n",
            " ********* validation accuracy:0.8648 validation loss: 0.042769454\n",
            "EPOCH 36.0\n",
            " train accuracy:0.82854545train loss: 0.05071201\n",
            " ********* validation accuracy:0.8666 validation loss: 0.042530514\n",
            "EPOCH 37.0\n",
            " train accuracy:0.82878184train loss: 0.050588593\n",
            " ********* validation accuracy:0.8668 validation loss: 0.042299144\n",
            "EPOCH 38.0\n",
            " train accuracy:0.82894546train loss: 0.050470922\n",
            " ********* validation accuracy:0.868 validation loss: 0.042074904\n",
            "EPOCH 39.0\n",
            " train accuracy:0.8291636train loss: 0.050358634\n",
            " ********* validation accuracy:0.8684 validation loss: 0.04185736\n",
            "EPOCH 40.0\n",
            " train accuracy:0.8294train loss: 0.05025139\n",
            " ********* validation accuracy:0.8694 validation loss: 0.04164614\n",
            "EPOCH 41.0\n",
            " train accuracy:0.82961816train loss: 0.05014888\n",
            " ********* validation accuracy:0.8694 validation loss: 0.041440893\n",
            "EPOCH 42.0\n",
            " train accuracy:0.8297091train loss: 0.050050814\n",
            " ********* validation accuracy:0.8698 validation loss: 0.04124129\n",
            "EPOCH 43.0\n",
            " train accuracy:0.82985455train loss: 0.04995692\n",
            " ********* validation accuracy:0.87 validation loss: 0.041047025\n",
            "EPOCH 44.0\n",
            " train accuracy:0.83train loss: 0.04986699\n",
            " ********* validation accuracy:0.871 validation loss: 0.04085784\n",
            "EPOCH 45.0\n",
            " train accuracy:0.8300545train loss: 0.04978078\n",
            " ********* validation accuracy:0.8718 validation loss: 0.04067347\n",
            "EPOCH 46.0\n",
            " train accuracy:0.8302909train loss: 0.049698077\n",
            " ********* validation accuracy:0.872 validation loss: 0.040493663\n",
            "EPOCH 47.0\n",
            " train accuracy:0.8304545train loss: 0.049618714\n",
            " ********* validation accuracy:0.8724 validation loss: 0.04031822\n",
            "EPOCH 48.0\n",
            " train accuracy:0.83083636train loss: 0.0495425\n",
            " ********* validation accuracy:0.8732 validation loss: 0.04014694\n",
            "EPOCH 49.0\n",
            " train accuracy:0.8309818train loss: 0.049469274\n",
            " ********* validation accuracy:0.8736 validation loss: 0.039979603\n",
            "EPOCH 50.0\n",
            " train accuracy:0.8312train loss: 0.049398884\n",
            " ********* validation accuracy:0.8736 validation loss: 0.039816063\n",
            "EPOCH 51.0\n",
            " train accuracy:0.83132726train loss: 0.049331192\n",
            " ********* validation accuracy:0.8746 validation loss: 0.039656132\n",
            "EPOCH 52.0\n",
            " train accuracy:0.8314546train loss: 0.04926606\n",
            " ********* validation accuracy:0.875 validation loss: 0.039499663\n",
            "EPOCH 53.0\n",
            " train accuracy:0.83149093train loss: 0.049203366\n",
            " ********* validation accuracy:0.8752 validation loss: 0.03934651\n",
            "EPOCH 54.0\n",
            " train accuracy:0.83183634train loss: 0.049142994\n",
            " ********* validation accuracy:0.8752 validation loss: 0.039196525\n",
            "EPOCH 55.0\n",
            " train accuracy:0.8319455train loss: 0.049084846\n",
            " ********* validation accuracy:0.8756 validation loss: 0.03904959\n",
            "EPOCH 56.0\n",
            " train accuracy:0.83198184train loss: 0.04902881\n",
            " ********* validation accuracy:0.8758 validation loss: 0.038905587\n",
            "EPOCH 57.0\n",
            " train accuracy:0.83198184train loss: 0.048974786\n",
            " ********* validation accuracy:0.876 validation loss: 0.03876439\n",
            "EPOCH 58.0\n",
            " train accuracy:0.8322727train loss: 0.048922695\n",
            " ********* validation accuracy:0.8764 validation loss: 0.0386259\n",
            "EPOCH 59.0\n",
            " train accuracy:0.83265454train loss: 0.04887245\n",
            " ********* validation accuracy:0.8776 validation loss: 0.03849001\n",
            "EPOCH 60.0\n",
            " train accuracy:0.8328182train loss: 0.04882398\n",
            " ********* validation accuracy:0.8778 validation loss: 0.038356617\n",
            "EPOCH 61.0\n",
            " train accuracy:0.83296365train loss: 0.048777185\n",
            " ********* validation accuracy:0.8786 validation loss: 0.038225647\n",
            "EPOCH 62.0\n",
            " train accuracy:0.83327276train loss: 0.04873202\n",
            " ********* validation accuracy:0.8792 validation loss: 0.038097005\n",
            "EPOCH 63.0\n",
            " train accuracy:0.83338183train loss: 0.048688408\n",
            " ********* validation accuracy:0.8794 validation loss: 0.03797061\n",
            "EPOCH 64.0\n",
            " train accuracy:0.8335091train loss: 0.048646294\n",
            " ********* validation accuracy:0.8796 validation loss: 0.03784638\n",
            "EPOCH 65.0\n",
            " train accuracy:0.8335636train loss: 0.0486056\n",
            " ********* validation accuracy:0.8794 validation loss: 0.03772424\n",
            "EPOCH 66.0\n",
            " train accuracy:0.8335091train loss: 0.048566293\n",
            " ********* validation accuracy:0.8796 validation loss: 0.03760414\n",
            "EPOCH 67.0\n",
            " train accuracy:0.8335091train loss: 0.048528306\n",
            " ********* validation accuracy:0.8796 validation loss: 0.03748599\n",
            "EPOCH 68.0\n",
            " train accuracy:0.83352727train loss: 0.048491593\n",
            " ********* validation accuracy:0.8798 validation loss: 0.03736974\n",
            "EPOCH 69.0\n",
            " train accuracy:0.8336909train loss: 0.048456103\n",
            " ********* validation accuracy:0.8798 validation loss: 0.03725532\n",
            "EPOCH 70.0\n",
            " train accuracy:0.8337455train loss: 0.048421793\n",
            " ********* validation accuracy:0.8808 validation loss: 0.03714268\n",
            "EPOCH 71.0\n",
            " train accuracy:0.8339091train loss: 0.048388623\n",
            " ********* validation accuracy:0.8812 validation loss: 0.037031762\n",
            "EPOCH 72.0\n",
            " train accuracy:0.83396363train loss: 0.04835655\n",
            " ********* validation accuracy:0.8814 validation loss: 0.036922514\n",
            "EPOCH 73.0\n",
            " train accuracy:0.8340182train loss: 0.048325527\n",
            " ********* validation accuracy:0.8814 validation loss: 0.03681489\n",
            "EPOCH 74.0\n",
            " train accuracy:0.83416367train loss: 0.04829552\n",
            " ********* validation accuracy:0.8818 validation loss: 0.03670884\n",
            "EPOCH 75.0\n",
            " train accuracy:0.8342364train loss: 0.048266508\n",
            " ********* validation accuracy:0.882 validation loss: 0.036604315\n",
            "EPOCH 76.0\n",
            " train accuracy:0.8343818train loss: 0.048238438\n",
            " ********* validation accuracy:0.8826 validation loss: 0.036501274\n",
            "EPOCH 77.0\n",
            " train accuracy:0.8344182train loss: 0.048211284\n",
            " ********* validation accuracy:0.883 validation loss: 0.036399674\n",
            "EPOCH 78.0\n",
            " train accuracy:0.83445454train loss: 0.048185024\n",
            " ********* validation accuracy:0.883 validation loss: 0.03629947\n",
            "EPOCH 79.0\n",
            " train accuracy:0.8345091train loss: 0.048159618\n",
            " ********* validation accuracy:0.8834 validation loss: 0.03620064\n",
            "EPOCH 80.0\n",
            " train accuracy:0.8345818train loss: 0.04813504\n",
            " ********* validation accuracy:0.8838 validation loss: 0.036103126\n",
            "EPOCH 81.0\n",
            " train accuracy:0.8347273train loss: 0.04811126\n",
            " ********* validation accuracy:0.8842 validation loss: 0.036006905\n",
            "EPOCH 82.0\n",
            " train accuracy:0.8349091train loss: 0.04808826\n",
            " ********* validation accuracy:0.8846 validation loss: 0.035911947\n",
            "EPOCH 83.0\n",
            " train accuracy:0.8348909train loss: 0.048066016\n",
            " ********* validation accuracy:0.8854 validation loss: 0.035818204\n",
            "EPOCH 84.0\n",
            " train accuracy:0.83483636train loss: 0.048044495\n",
            " ********* validation accuracy:0.8858 validation loss: 0.03572566\n",
            "EPOCH 85.0\n",
            " train accuracy:0.83483636train loss: 0.048023686\n",
            " ********* validation accuracy:0.8858 validation loss: 0.03563427\n",
            "EPOCH 86.0\n",
            " train accuracy:0.8348727train loss: 0.048003566\n",
            " ********* validation accuracy:0.8862 validation loss: 0.035544023\n",
            "EPOCH 87.0\n",
            " train accuracy:0.8348727train loss: 0.047984105\n",
            " ********* validation accuracy:0.8872 validation loss: 0.03545487\n",
            "EPOCH 88.0\n",
            " train accuracy:0.8350545train loss: 0.047965277\n",
            " ********* validation accuracy:0.8874 validation loss: 0.035366796\n",
            "EPOCH 89.0\n",
            " train accuracy:0.8351273train loss: 0.047947083\n",
            " ********* validation accuracy:0.8876 validation loss: 0.035279784\n",
            "EPOCH 90.0\n",
            " train accuracy:0.8351091train loss: 0.047929503\n",
            " ********* validation accuracy:0.8876 validation loss: 0.035193797\n",
            "EPOCH 91.0\n",
            " train accuracy:0.8352train loss: 0.047912486\n",
            " ********* validation accuracy:0.8878 validation loss: 0.035108805\n",
            "EPOCH 92.0\n",
            " train accuracy:0.83525455train loss: 0.04789607\n",
            " ********* validation accuracy:0.888 validation loss: 0.035024792\n",
            "EPOCH 93.0\n",
            " train accuracy:0.83534545train loss: 0.047880203\n",
            " ********* validation accuracy:0.888 validation loss: 0.03494174\n",
            "EPOCH 94.0\n",
            " train accuracy:0.83532727train loss: 0.047864858\n",
            " ********* validation accuracy:0.8886 validation loss: 0.03485962\n",
            "EPOCH 95.0\n",
            " train accuracy:0.8354727train loss: 0.047850054\n",
            " ********* validation accuracy:0.889 validation loss: 0.03477842\n",
            "EPOCH 96.0\n",
            " train accuracy:0.83550906train loss: 0.04783576\n",
            " ********* validation accuracy:0.8896 validation loss: 0.034698103\n",
            "EPOCH 97.0\n",
            " train accuracy:0.8354727train loss: 0.047821954\n",
            " ********* validation accuracy:0.89 validation loss: 0.03461867\n",
            "EPOCH 98.0\n",
            " train accuracy:0.83550906train loss: 0.04780865\n",
            " ********* validation accuracy:0.8902 validation loss: 0.034540094\n",
            "EPOCH 99.0\n",
            " train accuracy:0.8355455train loss: 0.047795787\n",
            " ********* validation accuracy:0.8904 validation loss: 0.034462333\n",
            "EPOCH 100.0\n",
            " train accuracy:0.8355455train loss: 0.0477834\n",
            " ********* validation accuracy:0.8906 validation loss: 0.034385417\n"
          ],
          "name": "stdout"
        }
      ]
    },
    {
      "metadata": {
        "id": "ksNrxDcFQN59",
        "colab_type": "text"
      },
      "cell_type": "markdown",
      "source": [
        "plot the train and validation acurracy and loss against the number of epochs"
      ]
    },
    {
      "metadata": {
        "id": "XwyJ_ytTP9Fp",
        "colab_type": "code",
        "colab": {
          "base_uri": "https://localhost:8080/",
          "height": 365
        },
        "outputId": "c0570c74-6535-4ddc-a42b-6d341e4fd332"
      },
      "cell_type": "code",
      "source": [
        "plot_history(history)"
      ],
      "execution_count": 0,
      "outputs": [
        {
          "output_type": "display_data",
          "data": {
            "image/png": "[encoded data removed]",
            "text/plain": [
              "<matplotlib.figure.Figure at 0x7f6260b7a9e8>"
            ]
          },
          "metadata": {
            "tags": []
          }
        }
      ]
    },
    {
      "metadata": {
        "id": "aH__v13zQaBS",
        "colab_type": "text"
      },
      "cell_type": "markdown",
      "source": [
        "Obtain the test accuracy"
      ]
    },
    {
      "metadata": {
        "id": "qk5hIPFoQZP5",
        "colab_type": "code",
        "colab": {
          "base_uri": "https://localhost:8080/",
          "height": 34
        },
        "outputId": "ecf66c08-b40c-438b-a463-d4604cbb4eca"
      },
      "cell_type": "code",
      "source": [
        "a_test, c_test  = sess.run([accuracy, cross_entropy], feed_dict={X: x_test, y: y_test})\n",
        "\n",
        "print('Test accuracy is: ', (\"%.2f\"%(a_test*100))+'%')"
      ],
      "execution_count": 0,
      "outputs": [
        {
          "output_type": "stream",
          "text": [
            "Test accuracy is:  82.24%\n"
          ],
          "name": "stdout"
        }
      ]
    },
    {
      "metadata": {
        "id": "mqPhv-PHLftr",
        "colab_type": "code",
        "colab": {}
      },
      "cell_type": "code",
      "source": [
        "sess.close()"
      ],
      "execution_count": 0,
      "outputs": []
    },
    {
      "metadata": {
        "id": "hberBIgCRzXd",
        "colab_type": "text"
      },
      "cell_type": "markdown",
      "source": [
        "You can try increasing the number of epochs for better accuracy"
      ]
    },
    {
      "metadata": {
        "id": "2gWfbEKXA_3Y",
        "colab_type": "text"
      },
      "cell_type": "markdown",
      "source": [
        "## 4. Add a hidden layer of 200 neurons, use sigmoid activation for hidden units, train and obtain train, validation and test accuracies and loss\n",
        "\n",
        "Computational graph"
      ]
    },
    {
      "metadata": {
        "id": "TroRdqrI7_vX",
        "colab_type": "code",
        "colab": {}
      },
      "cell_type": "code",
      "source": [
        "#Create computational graph\n",
        "\n",
        "# input \n",
        "X = tf.placeholder(tf.float32, [None,784])\n",
        "# labels (onehot encoded)\n",
        "y = tf.placeholder(tf.float32, [None, 10])\n",
        "\n",
        "''' First hidden layer with 200 neurons'''\n",
        "# weights 1\n",
        "W1 = tf.Variable(tf.truncated_normal([784, 200], stddev=0.1))\n",
        "# biases 1\n",
        "b1 = tf.Variable(tf.zeros([200]))\n",
        "\n",
        "# weigthed sum\n",
        "z1 = tf.matmul(X, W1) + b1\n",
        "\n",
        "#  activation\n",
        "h1 = tf.nn.sigmoid(z1)\n",
        "\n",
        "\n",
        "''' Second/output Layer'''\n",
        "# weights 2\n",
        "W2 = tf.Variable(tf.truncated_normal([200, 10], stddev=0.1))\n",
        "# biases 2\n",
        "b2 = tf.Variable(tf.zeros([10]))\n",
        "\n",
        "# weigthed sum\n",
        "z2 = tf.matmul(h1, W2) + b2\n",
        "\n",
        "# softmax activation\n",
        "h2 = tf.nn.softmax(z2)\n",
        "\n",
        "# softmax cross entropy loss\n",
        "cross_entropy = -tf.reduce_mean(y * tf.log(h2))\n",
        "\n",
        "# accuracy of the trained model, between 0 (worst) and 1 (best)\n",
        "correct_prediction = tf.equal(tf.argmax(h2, 1), tf.argmax(y, 1))\n",
        "accuracy = tf.reduce_mean(tf.cast(correct_prediction, tf.float32))\n",
        "\n",
        "# training, learning rate = 0.005\n",
        "# learning rate\n",
        "lr = 0.005\n",
        "train_step = tf.train.GradientDescentOptimizer(lr).minimize(cross_entropy)"
      ],
      "execution_count": 0,
      "outputs": []
    },
    {
      "metadata": {
        "id": "P74SqWbSSOvh",
        "colab_type": "code",
        "colab": {}
      },
      "cell_type": "code",
      "source": [
        ""
      ],
      "execution_count": 0,
      "outputs": []
    },
    {
      "metadata": {
        "id": "ItGQVt1SSPR6",
        "colab_type": "text"
      },
      "cell_type": "markdown",
      "source": [
        "Start session"
      ]
    },
    {
      "metadata": {
        "id": "XpiYTydxJEbH",
        "colab_type": "code",
        "colab": {}
      },
      "cell_type": "code",
      "source": [
        "#Start session\n",
        "\n",
        "# initialize all variables\n",
        "init = tf.global_variables_initializer()\n",
        "sess = tf.Session()\n",
        "sess.run(init)\n"
      ],
      "execution_count": 0,
      "outputs": []
    },
    {
      "metadata": {
        "id": "1Ea8h4_RLnDo",
        "colab_type": "code",
        "colab": {
          "base_uri": "https://localhost:8080/",
          "height": 5117
        },
        "outputId": "da2d31e2-f0ce-466b-e2ce-f5faea993cd9"
      },
      "cell_type": "code",
      "source": [
        "history = training(x_train, y_train, x_val, y_val, sess, epochs=100)"
      ],
      "execution_count": 0,
      "outputs": [
        {
          "output_type": "stream",
          "text": [
            "EPOCH 1.0\n",
            " train accuracy:0.23674546train loss: 0.22164032\n",
            " ********* validation accuracy:0.243 validation loss: 0.22116809\n",
            "EPOCH 2.0\n",
            " train accuracy:0.34243637train loss: 0.21304898\n",
            " ********* validation accuracy:0.3538 validation loss: 0.21241114\n",
            "EPOCH 3.0\n",
            " train accuracy:0.41438183train loss: 0.20550361\n",
            " ********* validation accuracy:0.4296 validation loss: 0.20468415\n",
            "EPOCH 4.0\n",
            " train accuracy:0.46843636train loss: 0.19845986\n",
            " ********* validation accuracy:0.4824 validation loss: 0.19747218\n",
            "EPOCH 5.0\n",
            " train accuracy:0.50683635train loss: 0.19186391\n",
            " ********* validation accuracy:0.519 validation loss: 0.19072488\n",
            "EPOCH 6.0\n",
            " train accuracy:0.5362909train loss: 0.18568811\n",
            " ********* validation accuracy:0.5442 validation loss: 0.1844141\n",
            "EPOCH 7.0\n",
            " train accuracy:0.5596train loss: 0.17990893\n",
            " ********* validation accuracy:0.5682 validation loss: 0.17851518\n",
            "EPOCH 8.0\n",
            " train accuracy:0.58025455train loss: 0.17450418\n",
            " ********* validation accuracy:0.5892 validation loss: 0.17300457\n",
            "EPOCH 9.0\n",
            " train accuracy:0.59794545train loss: 0.16945197\n",
            " ********* validation accuracy:0.6074 validation loss: 0.1678591\n",
            "EPOCH 10.0\n",
            " train accuracy:0.61274546train loss: 0.16473038\n",
            " ********* validation accuracy:0.6218 validation loss: 0.16305557\n",
            "EPOCH 11.0\n",
            " train accuracy:0.62578183train loss: 0.16031773\n",
            " ********* validation accuracy:0.6392 validation loss: 0.15857096\n",
            "EPOCH 12.0\n",
            " train accuracy:0.6366909train loss: 0.15619272\n",
            " ********* validation accuracy:0.6484 validation loss: 0.15438274\n",
            "EPOCH 13.0\n",
            " train accuracy:0.6462train loss: 0.1523344\n",
            " ********* validation accuracy:0.6578 validation loss: 0.15046884\n",
            "EPOCH 14.0\n",
            " train accuracy:0.6545454train loss: 0.14872283\n",
            " ********* validation accuracy:0.6658 validation loss: 0.14680836\n",
            "EPOCH 15.0\n",
            " train accuracy:0.6615273train loss: 0.14533901\n",
            " ********* validation accuracy:0.6724 validation loss: 0.14338131\n",
            "EPOCH 16.0\n",
            " train accuracy:0.66836363train loss: 0.142165\n",
            " ********* validation accuracy:0.6822 validation loss: 0.14016904\n",
            "EPOCH 17.0\n",
            " train accuracy:0.6732727train loss: 0.13918427\n",
            " ********* validation accuracy:0.6894 validation loss: 0.13715425\n",
            "EPOCH 18.0\n",
            " train accuracy:0.6779636train loss: 0.13638137\n",
            " ********* validation accuracy:0.695 validation loss: 0.13432097\n",
            "EPOCH 19.0\n",
            " train accuracy:0.68252724train loss: 0.13374221\n",
            " ********* validation accuracy:0.7008 validation loss: 0.13165455\n",
            "EPOCH 20.0\n",
            " train accuracy:0.68732727train loss: 0.13125387\n",
            " ********* validation accuracy:0.7054 validation loss: 0.12914161\n",
            "EPOCH 21.0\n",
            " train accuracy:0.6908909train loss: 0.12890449\n",
            " ********* validation accuracy:0.7084 validation loss: 0.12676996\n",
            "EPOCH 22.0\n",
            " train accuracy:0.6937818train loss: 0.12668338\n",
            " ********* validation accuracy:0.7116 validation loss: 0.12452856\n",
            "EPOCH 23.0\n",
            " train accuracy:0.697train loss: 0.12458077\n",
            " ********* validation accuracy:0.714 validation loss: 0.12240735\n",
            "EPOCH 24.0\n",
            " train accuracy:0.6994727train loss: 0.122587755\n",
            " ********* validation accuracy:0.7184 validation loss: 0.12039719\n",
            "EPOCH 25.0\n",
            " train accuracy:0.70190907train loss: 0.12069632\n",
            " ********* validation accuracy:0.7202 validation loss: 0.11848985\n",
            "EPOCH 26.0\n",
            " train accuracy:0.7038182train loss: 0.11889906\n",
            " ********* validation accuracy:0.7224 validation loss: 0.11667775\n",
            "EPOCH 27.0\n",
            " train accuracy:0.70607275train loss: 0.1171893\n",
            " ********* validation accuracy:0.7252 validation loss: 0.114954084\n",
            "EPOCH 28.0\n",
            " train accuracy:0.70763636train loss: 0.11556096\n",
            " ********* validation accuracy:0.7258 validation loss: 0.113312624\n",
            "EPOCH 29.0\n",
            " train accuracy:0.70943636train loss: 0.114008464\n",
            " ********* validation accuracy:0.7264 validation loss: 0.111747675\n",
            "EPOCH 30.0\n",
            " train accuracy:0.71114546train loss: 0.11252674\n",
            " ********* validation accuracy:0.7276 validation loss: 0.11025407\n",
            "EPOCH 31.0\n",
            " train accuracy:0.71265453train loss: 0.11111115\n",
            " ********* validation accuracy:0.729 validation loss: 0.10882709\n",
            "EPOCH 32.0\n",
            " train accuracy:0.71410906train loss: 0.109757416\n",
            " ********* validation accuracy:0.7296 validation loss: 0.1074624\n",
            "EPOCH 33.0\n",
            " train accuracy:0.7154train loss: 0.108461626\n",
            " ********* validation accuracy:0.7304 validation loss: 0.106156\n",
            "EPOCH 34.0\n",
            " train accuracy:0.7160364train loss: 0.107220195\n",
            " ********* validation accuracy:0.7316 validation loss: 0.10490424\n",
            "EPOCH 35.0\n",
            " train accuracy:0.71705455train loss: 0.10602985\n",
            " ********* validation accuracy:0.7332 validation loss: 0.10370383\n",
            "EPOCH 36.0\n",
            " train accuracy:0.7183273train loss: 0.10488752\n",
            " ********* validation accuracy:0.7338 validation loss: 0.10255164\n",
            "EPOCH 37.0\n",
            " train accuracy:0.7193273train loss: 0.10379039\n",
            " ********* validation accuracy:0.7354 validation loss: 0.10144484\n",
            "EPOCH 38.0\n",
            " train accuracy:0.72063637train loss: 0.102735884\n",
            " ********* validation accuracy:0.7362 validation loss: 0.10038077\n",
            "EPOCH 39.0\n",
            " train accuracy:0.7218train loss: 0.10172161\n",
            " ********* validation accuracy:0.737 validation loss: 0.09935705\n",
            "EPOCH 40.0\n",
            " train accuracy:0.7226545train loss: 0.10074533\n",
            " ********* validation accuracy:0.7376 validation loss: 0.09837142\n",
            "EPOCH 41.0\n",
            " train accuracy:0.7235636train loss: 0.099804975\n",
            " ********* validation accuracy:0.7394 validation loss: 0.09742178\n",
            "EPOCH 42.0\n",
            " train accuracy:0.72465456train loss: 0.098898605\n",
            " ********* validation accuracy:0.7402 validation loss: 0.09650617\n",
            "EPOCH 43.0\n",
            " train accuracy:0.7256train loss: 0.09802445\n",
            " ********* validation accuracy:0.7406 validation loss: 0.09562282\n",
            "EPOCH 44.0\n",
            " train accuracy:0.7263091train loss: 0.09718087\n",
            " ********* validation accuracy:0.7418 validation loss: 0.09477004\n",
            "EPOCH 45.0\n",
            " train accuracy:0.7270182train loss: 0.096366316\n",
            " ********* validation accuracy:0.7428 validation loss: 0.093946286\n",
            "EPOCH 46.0\n",
            " train accuracy:0.7281455train loss: 0.095579304\n",
            " ********* validation accuracy:0.7442 validation loss: 0.09315009\n",
            "EPOCH 47.0\n",
            " train accuracy:0.7290546train loss: 0.09481848\n",
            " ********* validation accuracy:0.7446 validation loss: 0.09238004\n",
            "EPOCH 48.0\n",
            " train accuracy:0.72972727train loss: 0.09408261\n",
            " ********* validation accuracy:0.7456 validation loss: 0.09163492\n",
            "EPOCH 49.0\n",
            " train accuracy:0.73014545train loss: 0.093370475\n",
            " ********* validation accuracy:0.7476 validation loss: 0.09091353\n",
            "EPOCH 50.0\n",
            " train accuracy:0.7309273train loss: 0.09268094\n",
            " ********* validation accuracy:0.7478 validation loss: 0.090214685\n",
            "EPOCH 51.0\n",
            " train accuracy:0.7319091train loss: 0.09201297\n",
            " ********* validation accuracy:0.749 validation loss: 0.08953736\n",
            "EPOCH 52.0\n",
            " train accuracy:0.7327818train loss: 0.0913656\n",
            " ********* validation accuracy:0.7494 validation loss: 0.0888806\n",
            "EPOCH 53.0\n",
            " train accuracy:0.73325455train loss: 0.09073789\n",
            " ********* validation accuracy:0.75 validation loss: 0.088243425\n",
            "EPOCH 54.0\n",
            " train accuracy:0.7340909train loss: 0.090128936\n",
            " ********* validation accuracy:0.7512 validation loss: 0.08762498\n",
            "EPOCH 55.0\n",
            " train accuracy:0.7348545train loss: 0.08953794\n",
            " ********* validation accuracy:0.7526 validation loss: 0.087024435\n",
            "EPOCH 56.0\n",
            " train accuracy:0.73545456train loss: 0.088964164\n",
            " ********* validation accuracy:0.753 validation loss: 0.08644103\n",
            "EPOCH 57.0\n",
            " train accuracy:0.7361091train loss: 0.08840679\n",
            " ********* validation accuracy:0.753 validation loss: 0.085873984\n",
            "EPOCH 58.0\n",
            " train accuracy:0.7367455train loss: 0.08786516\n",
            " ********* validation accuracy:0.7536 validation loss: 0.08532261\n",
            "EPOCH 59.0\n",
            " train accuracy:0.73743635train loss: 0.087338634\n",
            " ********* validation accuracy:0.7538 validation loss: 0.084786266\n",
            "EPOCH 60.0\n",
            " train accuracy:0.7381273train loss: 0.08682655\n",
            " ********* validation accuracy:0.7542 validation loss: 0.08426432\n",
            "EPOCH 61.0\n",
            " train accuracy:0.7388545train loss: 0.086328335\n",
            " ********* validation accuracy:0.7544 validation loss: 0.08375621\n",
            "EPOCH 62.0\n",
            " train accuracy:0.7395091train loss: 0.08584345\n",
            " ********* validation accuracy:0.7552 validation loss: 0.08326134\n",
            "EPOCH 63.0\n",
            " train accuracy:0.74train loss: 0.08537135\n",
            " ********* validation accuracy:0.7552 validation loss: 0.0827792\n",
            "EPOCH 64.0\n",
            " train accuracy:0.74047273train loss: 0.08491153\n",
            " ********* validation accuracy:0.756 validation loss: 0.082309276\n",
            "EPOCH 65.0\n",
            " train accuracy:0.7410182train loss: 0.08446352\n",
            " ********* validation accuracy:0.757 validation loss: 0.081851095\n",
            "EPOCH 66.0\n",
            " train accuracy:0.7416546train loss: 0.08402687\n",
            " ********* validation accuracy:0.7568 validation loss: 0.08140423\n",
            "EPOCH 67.0\n",
            " train accuracy:0.7421273train loss: 0.08360114\n",
            " ********* validation accuracy:0.7574 validation loss: 0.080968216\n",
            "EPOCH 68.0\n",
            " train accuracy:0.74265456train loss: 0.08318589\n",
            " ********* validation accuracy:0.7578 validation loss: 0.08054264\n",
            "EPOCH 69.0\n",
            " train accuracy:0.7433091train loss: 0.082780756\n",
            " ********* validation accuracy:0.7586 validation loss: 0.08012711\n",
            "EPOCH 70.0\n",
            " train accuracy:0.7437636train loss: 0.082385354\n",
            " ********* validation accuracy:0.7592 validation loss: 0.07972128\n",
            "EPOCH 71.0\n",
            " train accuracy:0.74430907train loss: 0.08199933\n",
            " ********* validation accuracy:0.759 validation loss: 0.079324774\n",
            "EPOCH 72.0\n",
            " train accuracy:0.7447091train loss: 0.08162235\n",
            " ********* validation accuracy:0.7602 validation loss: 0.07893724\n",
            "EPOCH 73.0\n",
            " train accuracy:0.74523634train loss: 0.08125409\n",
            " ********* validation accuracy:0.7612 validation loss: 0.0785584\n",
            "EPOCH 74.0\n",
            " train accuracy:0.7458364train loss: 0.08089426\n",
            " ********* validation accuracy:0.7612 validation loss: 0.07818793\n",
            "EPOCH 75.0\n",
            " train accuracy:0.74627274train loss: 0.08054255\n",
            " ********* validation accuracy:0.7622 validation loss: 0.077825524\n",
            "EPOCH 76.0\n",
            " train accuracy:0.7469091train loss: 0.080198675\n",
            " ********* validation accuracy:0.7626 validation loss: 0.07747093\n",
            "EPOCH 77.0\n",
            " train accuracy:0.74732727train loss: 0.079862386\n",
            " ********* validation accuracy:0.763 validation loss: 0.077123865\n",
            "EPOCH 78.0\n",
            " train accuracy:0.7477091train loss: 0.079533406\n",
            " ********* validation accuracy:0.7638 validation loss: 0.07678406\n",
            "EPOCH 79.0\n",
            " train accuracy:0.7481273train loss: 0.07921149\n",
            " ********* validation accuracy:0.764 validation loss: 0.0764513\n",
            "EPOCH 80.0\n",
            " train accuracy:0.7485818train loss: 0.078896396\n",
            " ********* validation accuracy:0.7638 validation loss: 0.0761253\n",
            "EPOCH 81.0\n",
            " train accuracy:0.74898183train loss: 0.07858789\n",
            " ********* validation accuracy:0.7636 validation loss: 0.07580587\n",
            "EPOCH 82.0\n",
            " train accuracy:0.74945456train loss: 0.07828578\n",
            " ********* validation accuracy:0.7634 validation loss: 0.0754928\n",
            "EPOCH 83.0\n",
            " train accuracy:0.7500182train loss: 0.07798986\n",
            " ********* validation accuracy:0.7634 validation loss: 0.07518588\n",
            "EPOCH 84.0\n",
            " train accuracy:0.75036365train loss: 0.07769994\n",
            " ********* validation accuracy:0.7636 validation loss: 0.07488493\n",
            "EPOCH 85.0\n",
            " train accuracy:0.75092727train loss: 0.07741581\n",
            " ********* validation accuracy:0.7648 validation loss: 0.07458974\n",
            "EPOCH 86.0\n",
            " train accuracy:0.7515454train loss: 0.07713726\n",
            " ********* validation accuracy:0.7654 validation loss: 0.074300095\n",
            "EPOCH 87.0\n",
            " train accuracy:0.7518727train loss: 0.07686417\n",
            " ********* validation accuracy:0.766 validation loss: 0.074015886\n",
            "EPOCH 88.0\n",
            " train accuracy:0.7524545train loss: 0.076596335\n",
            " ********* validation accuracy:0.7662 validation loss: 0.07373691\n",
            "EPOCH 89.0\n",
            " train accuracy:0.7526364train loss: 0.07633358\n",
            " ********* validation accuracy:0.767 validation loss: 0.073463\n",
            "EPOCH 90.0\n",
            " train accuracy:0.7530909train loss: 0.07607579\n",
            " ********* validation accuracy:0.7676 validation loss: 0.073194034\n",
            "EPOCH 91.0\n",
            " train accuracy:0.7534364train loss: 0.07582281\n",
            " ********* validation accuracy:0.7686 validation loss: 0.07292982\n",
            "EPOCH 92.0\n",
            " train accuracy:0.7538546train loss: 0.075574495\n",
            " ********* validation accuracy:0.7696 validation loss: 0.07267028\n",
            "EPOCH 93.0\n",
            " train accuracy:0.7542727train loss: 0.07533069\n",
            " ********* validation accuracy:0.7698 validation loss: 0.07241522\n",
            "EPOCH 94.0\n",
            " train accuracy:0.7550909train loss: 0.075091295\n",
            " ********* validation accuracy:0.7706 validation loss: 0.07216456\n",
            "EPOCH 95.0\n",
            " train accuracy:0.7557273train loss: 0.074856155\n",
            " ********* validation accuracy:0.7714 validation loss: 0.07191812\n",
            "EPOCH 96.0\n",
            " train accuracy:0.7560545train loss: 0.07462515\n",
            " ********* validation accuracy:0.7712 validation loss: 0.071675815\n",
            "EPOCH 97.0\n",
            " train accuracy:0.75636363train loss: 0.07439814\n",
            " ********* validation accuracy:0.7718 validation loss: 0.0714375\n",
            "EPOCH 98.0\n",
            " train accuracy:0.75658184train loss: 0.07417506\n",
            " ********* validation accuracy:0.7724 validation loss: 0.07120308\n",
            "EPOCH 99.0\n",
            " train accuracy:0.75692725train loss: 0.07395577\n",
            " ********* validation accuracy:0.7728 validation loss: 0.070972465\n",
            "EPOCH 100.0\n",
            " train accuracy:0.7572909train loss: 0.07374016\n",
            " ********* validation accuracy:0.773 validation loss: 0.07074551\n"
          ],
          "name": "stdout"
        }
      ]
    },
    {
      "metadata": {
        "id": "AhihJDfKx-mH",
        "colab_type": "code",
        "colab": {
          "base_uri": "https://localhost:8080/",
          "height": 361
        },
        "outputId": "b445ab1f-8e1c-4415-ac09-cd6cd31da91f"
      },
      "cell_type": "code",
      "source": [
        "plot_history(history)"
      ],
      "execution_count": 0,
      "outputs": [
        {
          "output_type": "display_data",
          "data": {
            "image/png": "[encoded data removed]",
            "text/plain": [
              "<matplotlib.figure.Figure at 0x7f620fafb240>"
            ]
          },
          "metadata": {
            "tags": []
          }
        }
      ]
    },
    {
      "metadata": {
        "id": "bpsEIn_-ShHL",
        "colab_type": "code",
        "colab": {
          "base_uri": "https://localhost:8080/",
          "height": 34
        },
        "outputId": "94108d53-46c0-498c-9998-a705e1a7937f"
      },
      "cell_type": "code",
      "source": [
        "a_test, c_test  = sess.run([accuracy, cross_entropy], feed_dict={X: x_test, y: y_test})\n",
        "\n",
        "print('Test accuracy is: ', (\"%.2f\"%(a_test*100))+'%')"
      ],
      "execution_count": 0,
      "outputs": [
        {
          "output_type": "stream",
          "text": [
            "Test accuracy is:  75.39%\n"
          ],
          "name": "stdout"
        }
      ]
    },
    {
      "metadata": {
        "id": "b8puHuHPSh5L",
        "colab_type": "code",
        "colab": {}
      },
      "cell_type": "code",
      "source": [
        "sess.close()"
      ],
      "execution_count": 0,
      "outputs": []
    },
    {
      "metadata": {
        "id": "BYvKaU1WT2HZ",
        "colab_type": "text"
      },
      "cell_type": "markdown",
      "source": [
        "You can try increasing the number of epochs for better accuracy"
      ]
    },
    {
      "metadata": {
        "id": "pcvZJfOK4abr",
        "colab_type": "text"
      },
      "cell_type": "markdown",
      "source": [
        "# You are to build the computational graph by completing the required code statement with None assigned"
      ]
    },
    {
      "metadata": {
        "id": "wqg1bwq5MmZQ",
        "colab_type": "text"
      },
      "cell_type": "markdown",
      "source": [
        "## 5. Build a five layer neural network with sigmoid activation"
      ]
    },
    {
      "metadata": {
        "id": "DRDdoKBSMsdY",
        "colab_type": "code",
        "colab": {}
      },
      "cell_type": "code",
      "source": [
        "#Create computational graph\n",
        "\n",
        "# input \n",
        "X = tf.placeholder(tf.float32, [None,784])\n",
        "# labels (onehot encoded)\n",
        "y = tf.placeholder(tf.float32, [None, 10])\n",
        "\n",
        "''' First hidden layer with 200 neurons'''\n",
        "# weights 1\n",
        "W1 = tf.Variable(tf.truncated_normal([784, 200], stddev=0.1))\n",
        "# biases 1\n",
        "b1 = tf.Variable(tf.zeros([200]))\n",
        "\n",
        "# weigthed sum\n",
        "z1 = tf.matmul(X, W1) + b1\n",
        "\n",
        "#  activation\n",
        "h1 = tf.nn.sigmoid(z1)\n",
        "\n",
        "''' Second hidden layer with 100 neurons'''\n",
        "################## START CODE #########################\n",
        "# weights 2\n",
        "W2 = tf.Variable(tf.truncated_normal([200,100] , stddev = 0.1))\n",
        "# biases 2\n",
        "b2 = tf.Variable(tf.zeros([100]))\n",
        "\n",
        "# weigthed sum\n",
        "z2 = tf.matmul(h1, W2) + b2\n",
        "\n",
        "#  activation\n",
        "h2 = tf.nn.sigmoid(z2)\n",
        "\n",
        "####################### END #############################\n",
        "\n",
        "''' third Layer with 60 neurons'''\n",
        "##################### START CODE #########################\n",
        "# weights 3\n",
        "W3 = tf.Variable(tf.truncated_normal([100,60] , stddev = 0.1))\n",
        "# biases 3\n",
        "b3 = tf.Variable(tf.zeros([60]))\n",
        "\n",
        "# weigthed sum\n",
        "z3 = tf.matmul(h2,W3) + b3\n",
        "#  activation\n",
        "h3 = tf.nn.sigmoid(z3)\n",
        "\n",
        "#################### END ##################################\n",
        "\n",
        "''' fourth Layer with 30 neurons'''\n",
        "##################### START CODE #########################\n",
        "# weights 4\n",
        "W4 = tf.Variable(tf.truncated_normal([60,30] , stddev = 0.1))\n",
        "# biases 4\n",
        "b4 = tf.Variable(tf.zeros([30]))\n",
        "\n",
        "# weigthed sum\n",
        "z4 = tf.matmul(h3,W4) + b4\n",
        "\n",
        "\n",
        "#  activation\n",
        "h4 = tf.nn.sigmoid(z4)\n",
        "\n",
        "#################### END ##################################\n",
        "\n",
        "''' fifth/output Layer with 10 neurons'''\n",
        "##################### START CODE #########################\n",
        "# weights 5\n",
        "W5 = tf.Variable(tf.truncated_normal([30,10] , stddev = 0.1))\n",
        "# biases 5\n",
        "b5 = tf.Variable(tf.zeros([10]))\n",
        "# weigthed sum\n",
        "z5 = tf.matmul(h4,W5) + b5\n",
        "\n",
        "# softmax activation (optional)\n",
        "h5 = tf.nn.softmax(z5)\n",
        "\n",
        "#################### END ##################################\n",
        "\n",
        "\n",
        "\n",
        "# cross-entropy loss function (= -sum(y_i * log(hi)) )\n",
        "# TensorFlow provides the softmax_cross_entropy_with_logits function to avoid numerical stability\n",
        "# problems with log(0) which is NaN\n",
        "cross_entropy = tf.nn.softmax_cross_entropy_with_logits(logits=z5, labels=y)\n",
        "cross_entropy = tf.reduce_mean(cross_entropy)\n",
        "\n",
        "################### END ###############################\n",
        "\n",
        "# accuracy of the trained model, between 0 (worst) and 1 (best)\n",
        "correct_prediction = tf.equal(tf.argmax(h5, 1), tf.argmax(y, 1))\n",
        "accuracy = tf.reduce_mean(tf.cast(correct_prediction, tf.float32))\n",
        "\n",
        "# training\n",
        "################# START CODE ########################\n",
        "# learning rate\n",
        "lr = 0.05\n",
        "train_step = tf.train.GradientDescentOptimizer(lr).minimize(cross_entropy)\n",
        "\n",
        "################# END ###############################"
      ],
      "execution_count": 0,
      "outputs": []
    },
    {
      "metadata": {
        "id": "KTJcRkYlT_FP",
        "colab_type": "text"
      },
      "cell_type": "markdown",
      "source": [
        "Start a session"
      ]
    },
    {
      "metadata": {
        "id": "uVUDCOLNUBQq",
        "colab_type": "code",
        "colab": {}
      },
      "cell_type": "code",
      "source": [
        "#Start session\n",
        "\n",
        "# initialize all variables\n",
        "init = tf.global_variables_initializer()\n",
        "sess = tf.Session()\n",
        "sess.run(init)\n"
      ],
      "execution_count": 0,
      "outputs": []
    },
    {
      "metadata": {
        "id": "4xmeL4flULAw",
        "colab_type": "text"
      },
      "cell_type": "markdown",
      "source": [
        "Train & visualize train/val loss and accuracy"
      ]
    },
    {
      "metadata": {
        "id": "mgQVQj5AUKBg",
        "colab_type": "code",
        "colab": {}
      },
      "cell_type": "code",
      "source": [
        "history = training(x_train, y_train, x_val, y_val, sess, epochs=100)"
      ],
      "execution_count": 0,
      "outputs": []
    },
    {
      "metadata": {
        "id": "4xIQk0TdyAbh",
        "colab_type": "code",
        "colab": {}
      },
      "cell_type": "code",
      "source": [
        "plot_history(history)"
      ],
      "execution_count": 0,
      "outputs": []
    },
    {
      "metadata": {
        "id": "YS8PMju1UdLL",
        "colab_type": "text"
      },
      "cell_type": "markdown",
      "source": [
        "Test accuracy"
      ]
    },
    {
      "metadata": {
        "id": "nMUiYVfRUZtD",
        "colab_type": "code",
        "colab": {}
      },
      "cell_type": "code",
      "source": [
        "a_test, c_test  = sess.run([accuracy, cross_entropy], feed_dict={X: x_test, y: y_test})\n",
        "\n",
        "print('Test accuracy is: ', (\"%.2f\"%(a_test*100))+'%')"
      ],
      "execution_count": 0,
      "outputs": []
    },
    {
      "metadata": {
        "id": "oSFuvfiKUXaU",
        "colab_type": "text"
      },
      "cell_type": "markdown",
      "source": [
        "## 6. Replace the sigmoid activations with relu"
      ]
    },
    {
      "metadata": {
        "id": "HtB2pCriVBh2",
        "colab_type": "text"
      },
      "cell_type": "markdown",
      "source": [
        "Computational graph"
      ]
    },
    {
      "metadata": {
        "id": "ZcGVjBjLUiIR",
        "colab_type": "code",
        "colab": {}
      },
      "cell_type": "code",
      "source": [
        "#Create computational graph\n",
        "\n",
        "# input \n",
        "X = tf.placeholder(tf.float32, [None,784])\n",
        "# labels (onehot encoded)\n",
        "y = tf.placeholder(tf.float32, [None, 10])\n",
        "\n",
        "''' First hidden layer with 200 neurons'''\n",
        "################## START CODE #########################\n",
        "# weights 1\n",
        "W1 = None\n",
        "# biases 1\n",
        "b1 = None\n",
        "\n",
        "# weigthed sum\n",
        "z1 = None\n",
        "\n",
        "#  activation\n",
        "h1 = tf.nn.relu(z1)\n",
        "####################### END #############################\n",
        "\n",
        "''' Second hidden layer with 100 neurons'''\n",
        "################## START CODE #########################\n",
        "# weights 1\n",
        "W2 = None\n",
        "# biases 1\n",
        "b2 = None\n",
        "\n",
        "# weigthed sum\n",
        "z2 = None\n",
        "\n",
        "# activation\n",
        "h2 = tf.nn.relu(z2)\n",
        "\n",
        "####################### END #############################\n",
        "\n",
        "''' third Layer with 60 neurons'''\n",
        "##################### START CODE #########################\n",
        "# weights 2\n",
        "W3 = tf.Variable(tf.truncated_normal([100, 60], stddev=0.1))\n",
        "# biases 2\n",
        "b3 = None\n",
        "\n",
        "# weigthed sum\n",
        "z3 = tf.matmul(h2, W3) + b3\n",
        "\n",
        "# activation\n",
        "h3 = None\n",
        "\n",
        "#################### END ##################################\n",
        "\n",
        "''' fourth Layer with 30 neurons'''\n",
        "##################### START CODE #########################\n",
        "# weights 2\n",
        "W4 = None\n",
        "# biases 2\n",
        "b4 = tf.Variable(tf.zeros([30]))\n",
        "\n",
        "# weigthed sum\n",
        "z4 = None\n",
        "\n",
        "# activation \n",
        "h4 = None\n",
        "\n",
        "#################### END ##################################\n",
        "\n",
        "''' fifth/output Layer with 10 neurons'''\n",
        "##################### START CODE #########################\n",
        "# weights 2\n",
        "W5 = None\n",
        "# biases 2\n",
        "b5 = None\n",
        "# weigthed sum\n",
        "z5 = None\n",
        "\n",
        "# softmax activation (optional)\n",
        "h5 = tf.nn.softmax(z5)\n",
        "\n",
        "#################### END ##################################\n",
        "\n",
        "\n",
        "\n",
        "# cross-entropy loss function (= -sum(yi * log(hi)) )\n",
        "# TensorFlow provides the softmax_cross_entropy_with_logits function to avoid numerical stability\n",
        "# problems with log(0) which is NaN\n",
        "cross_entropy = tf.nn.softmax_cross_entropy_with_logits(logits=z5, labels=y)\n",
        "cross_entropy = tf.reduce_mean(cross_entropy)\n",
        "\n",
        "################### END ###############################\n",
        "\n",
        "# accuracy of the trained model, between 0 (worst) and 1 (best)\n",
        "correct_prediction = None\n",
        "accuracy = None\n",
        "\n",
        "# training\n",
        "################# START CODE ########################\n",
        "# learning rate\n",
        "lr = None\n",
        "train_step = None\n",
        "\n",
        "################# END ###############################"
      ],
      "execution_count": 0,
      "outputs": []
    },
    {
      "metadata": {
        "id": "0yF9yD-nVALT",
        "colab_type": "text"
      },
      "cell_type": "markdown",
      "source": [
        "Start a session"
      ]
    },
    {
      "metadata": {
        "id": "63pJ02MzUwcM",
        "colab_type": "code",
        "colab": {}
      },
      "cell_type": "code",
      "source": [
        "#Start session\n",
        "\n",
        "# initialize all variables\n",
        "init = tf.global_variables_initializer()\n",
        "sess = tf.Session()\n",
        "sess.run(init)\n"
      ],
      "execution_count": 0,
      "outputs": []
    },
    {
      "metadata": {
        "id": "2fC7310yU9b-",
        "colab_type": "text"
      },
      "cell_type": "markdown",
      "source": [
        "Train & visualize train/val loss and accuracy"
      ]
    },
    {
      "metadata": {
        "id": "CVEm4NaYUy7q",
        "colab_type": "code",
        "colab": {}
      },
      "cell_type": "code",
      "source": [
        "history = training(x_train, y_train, x_val, y_val, sess, epochs=100)"
      ],
      "execution_count": 0,
      "outputs": []
    },
    {
      "metadata": {
        "id": "MGoXcNh0yCI_",
        "colab_type": "code",
        "colab": {}
      },
      "cell_type": "code",
      "source": [
        "plot_history(history)"
      ],
      "execution_count": 0,
      "outputs": []
    },
    {
      "metadata": {
        "id": "mSsJprzhU3CP",
        "colab_type": "text"
      },
      "cell_type": "markdown",
      "source": [
        "Test Accuracy"
      ]
    },
    {
      "metadata": {
        "id": "pN119AN4U1Lk",
        "colab_type": "code",
        "colab": {}
      },
      "cell_type": "code",
      "source": [
        "a_test, c_test  = sess.run([accuracy, cross_entropy], feed_dict={X: x_test, y: y_test})\n",
        "\n",
        "print('Test accuracy is: ', (\"%.2f\"%(a_test*100))+'%')"
      ],
      "execution_count": 0,
      "outputs": []
    },
    {
      "metadata": {
        "id": "tdsl7Fc9VIMj",
        "colab_type": "text"
      },
      "cell_type": "markdown",
      "source": [
        "## 7. Introduce learning rate decay"
      ]
    },
    {
      "metadata": {
        "id": "NP35q0iBW8h1",
        "colab_type": "text"
      },
      "cell_type": "markdown",
      "source": [
        "Computational graph"
      ]
    },
    {
      "metadata": {
        "id": "AW10JPzZW5qu",
        "colab_type": "code",
        "colab": {}
      },
      "cell_type": "code",
      "source": [
        "#Create computational graph\n",
        "\n",
        "# input \n",
        "X = tf.placeholder(tf.float32, [None,784])\n",
        "# labels (onehot encoded)\n",
        "y = tf.placeholder(tf.float32, [None, 10])\n",
        "# step for variable learning rate\n",
        "step_val = tf.placeholder(tf.int32)\n",
        "\n",
        "''' First hidden layer with 200 neurons'''\n",
        "####################### START CODE #############################\n",
        "# weights 1\n",
        "W1 = tf.Variable(tf.truncated_normal([784, 200], stddev=0.1))\n",
        "# biases 1\n",
        "b1 = None\n",
        "\n",
        "# weigthed sum\n",
        "z1 = None\n",
        "\n",
        "#  activation\n",
        "h1 = tf.nn.relu(z1)\n",
        "####################### END #############################\n",
        "\n",
        "''' Second hidden layer with 100 neurons'''\n",
        "################## START CODE #########################\n",
        "# weights 1\n",
        "W2 = None\n",
        "# biases 1\n",
        "b2 = None\n",
        "\n",
        "# weigthed sum\n",
        "z2 = None\n",
        "# activation\n",
        "h2 = tf.nn.relu(z2)\n",
        "\n",
        "####################### END #############################\n",
        "\n",
        "''' third Layer with 60 neurons'''\n",
        "##################### START CODE #########################\n",
        "# weights 2\n",
        "W3 = tf.Variable(tf.truncated_normal([100, 60], stddev=0.1))\n",
        "# biases 2\n",
        "b3 = None\n",
        "\n",
        "# weigthed sum\n",
        "z3 = None\n",
        "\n",
        "# activation\n",
        "h3 = None\n",
        "\n",
        "#################### END ##################################\n",
        "\n",
        "''' fourth Layer with 30 neurons'''\n",
        "##################### START CODE #########################\n",
        "# weights 2\n",
        "W4 = None\n",
        "# biases 2\n",
        "b4 = tf.Variable(tf.zeros([30]))\n",
        "\n",
        "# weigthed sum\n",
        "z4 = None\n",
        "\n",
        "# activation \n",
        "h4 = None\n",
        "\n",
        "#################### END ##################################\n",
        "\n",
        "''' fifth/output Layer with 10 neurons'''\n",
        "##################### START CODE #########################\n",
        "# weights 2\n",
        "W5 = None\n",
        "# biases 2\n",
        "b5 = None\n",
        "# weigthed sum\n",
        "z5 = None\n",
        "\n",
        "# softmax activation (optional)\n",
        "h5 = tf.nn.softmax(z5)\n",
        "\n",
        "#################### END ##################################\n",
        "\n",
        "\n",
        "\n",
        "\n",
        "# cross-entropy loss function (= -sum(yi * log(hi)) )\n",
        "# TensorFlow provides the softmax_cross_entropy_with_logits function to avoid numerical stability\n",
        "# problems with log(0) which is NaN\n",
        "cross_entropy = tf.nn.softmax_cross_entropy_with_logits(logits=z5, labels=y)\n",
        "cross_entropy = tf.reduce_mean(cross_entropy)\n",
        "\n",
        "################### END ###############################\n",
        "\n",
        "# accuracy of the trained model, between 0 (worst) and 1 (best)\n",
        "correct_prediction = tf.equal(tf.argmax(h5, 1), tf.argmax(y, 1))\n",
        "accuracy = tf.reduce_mean(tf.cast(correct_prediction, tf.float32))\n",
        "\n",
        "# training\n",
        "################# START CODE ########################\n",
        "# the learning rate is: # 0.0001 + 0.003 * (1/e)^(step/2000)), i.e. exponential decay from 0.003->0.0001\n",
        "lr = 0.0001 +  tf.train.exponential_decay(0.003, step_val, 2000, 1/math.e)\n",
        "train_step = None\n",
        "\n",
        "################# END ###############################"
      ],
      "execution_count": 0,
      "outputs": []
    },
    {
      "metadata": {
        "id": "_r9kiYMOXCFK",
        "colab_type": "text"
      },
      "cell_type": "markdown",
      "source": [
        "Start Session"
      ]
    },
    {
      "metadata": {
        "id": "g8Z-jkTiXBGt",
        "colab_type": "code",
        "colab": {}
      },
      "cell_type": "code",
      "source": [
        "#Start session\n",
        "\n",
        "# initialize all variables\n",
        "init = tf.global_variables_initializer()\n",
        "sess = tf.Session()\n",
        "sess.run(init)\n"
      ],
      "execution_count": 0,
      "outputs": []
    },
    {
      "metadata": {
        "id": "vl4YPXlrXRNc",
        "colab_type": "text"
      },
      "cell_type": "markdown",
      "source": [
        "Train & visualize train/val loss and accuracy"
      ]
    },
    {
      "metadata": {
        "id": "k-KAZHs4XE_I",
        "colab_type": "code",
        "colab": {}
      },
      "cell_type": "code",
      "source": [
        "history = training(x_train, y_train, x_val, y_val, sess, epochs=100, step=True)"
      ],
      "execution_count": 0,
      "outputs": []
    },
    {
      "metadata": {
        "id": "KkeyHimTyEOZ",
        "colab_type": "code",
        "colab": {}
      },
      "cell_type": "code",
      "source": [
        "plot_history(history)"
      ],
      "execution_count": 0,
      "outputs": []
    },
    {
      "metadata": {
        "id": "tpDp3DSPXLQa",
        "colab_type": "text"
      },
      "cell_type": "markdown",
      "source": [
        "Test Accuracy"
      ]
    },
    {
      "metadata": {
        "id": "l6IdYzU7XKVi",
        "colab_type": "code",
        "colab": {}
      },
      "cell_type": "code",
      "source": [
        "a_test, c_test  = sess.run([accuracy, cross_entropy], feed_dict={X: x_test, y: y_test})\n",
        "\n",
        "print('Test accuracy is: ', (\"%.2f\"%(a_test*100))+'%')"
      ],
      "execution_count": 0,
      "outputs": []
    },
    {
      "metadata": {
        "id": "e-TnuKZh26wH",
        "colab_type": "code",
        "colab": {}
      },
      "cell_type": "code",
      "source": [
        "sess.close()"
      ],
      "execution_count": 0,
      "outputs": []
    },
    {
      "metadata": {
        "id": "16lHWmTLZ4yz",
        "colab_type": "text"
      },
      "cell_type": "markdown",
      "source": [
        "## 8. Use dropout"
      ]
    },
    {
      "metadata": {
        "id": "_lj9seh4aWKr",
        "colab_type": "text"
      },
      "cell_type": "markdown",
      "source": [
        "Computational graph"
      ]
    },
    {
      "metadata": {
        "id": "xbZEABFKaUHq",
        "colab_type": "code",
        "colab": {}
      },
      "cell_type": "code",
      "source": [
        "#Create computational graph\n",
        "\n",
        "# input \n",
        "X = tf.placeholder(tf.float32, [None,784])\n",
        "# labels (onehot encoded)\n",
        "y = tf.placeholder(tf.float32, [None, 10])\n",
        "# step for variable learning rate\n",
        "step_val = tf.placeholder(tf.int32)\n",
        "\n",
        "# variable learning rate\n",
        "lr = tf.placeholder(tf.float32)\n",
        "# Probability of keeping a node during dropout = 1.0 at test time (no dropout) and 0.75 at training time\n",
        "pkeep_val = tf.placeholder(tf.float32)\n",
        "\n",
        "\n",
        "''' First hidden layer with 200 neurons'''\n",
        "################## START CODE #########################\n",
        "# weights 1\n",
        "W1 = None\n",
        "# biases 1\n",
        "b1 = None\n",
        "\n",
        "# weigthed sum\n",
        "z1 = tf.matmul(X, W1) + b1\n",
        "\n",
        "#  activation\n",
        "h1 = None\n",
        "\n",
        "# dropout\n",
        "h1d = tf.nn.dropout(h1, pkeep_val)\n",
        "################## END #########################\n",
        "\n",
        "''' Second hidden layer with 100 neurons'''\n",
        "################## START CODE #########################\n",
        "# weights 1\n",
        "W2 = None\n",
        "# biases 1\n",
        "b2 = None\n",
        "\n",
        "# weigthed sum\n",
        "z2 = tf.matmul(h1d, W2) + b2\n",
        "\n",
        "# activation\n",
        "h2 = tf.nn.relu(z2)\n",
        "\n",
        "# dropout\n",
        "h2d = None\n",
        "\n",
        "\n",
        "####################### END #############################\n",
        "\n",
        "''' third Layer with 60 neurons'''\n",
        "##################### START CODE #########################\n",
        "# weights 2\n",
        "W3 = tf.Variable(tf.truncated_normal([100, 60], stddev=0.1))\n",
        "# biases 2\n",
        "b3 = None\n",
        "\n",
        "# weigthed sum\n",
        "z3 = tf.matmul(h2d, W3) + b3\n",
        "\n",
        "# activation\n",
        "h3 = None\n",
        "\n",
        "# dropout\n",
        "h3d = None\n",
        "\n",
        "#################### END ##################################\n",
        "\n",
        "''' fourth Layer with 30 neurons'''\n",
        "##################### START CODE #########################\n",
        "# weights 2\n",
        "W4 = None\n",
        "# biases 2\n",
        "b4 = tf.Variable(tf.zeros([30]))\n",
        "\n",
        "# weigthed sum\n",
        "z4 = None\n",
        "\n",
        "# activation \n",
        "h4 = None\n",
        "\n",
        "# dropout\n",
        "h4d = None\n",
        "\n",
        "\n",
        "#################### END ##################################\n",
        "\n",
        "''' fifth/output Layer with 10 neurons'''\n",
        "##################### START CODE #########################\n",
        "# weights 2\n",
        "W5 = tf.Variable(tf.truncated_normal([30, 10], stddev=0.1))#None\n",
        "# biases 2\n",
        "b5 = None\n",
        "# weigthed sum\n",
        "z5 = None\n",
        "\n",
        "# softmax activation\n",
        "h5 = tf.nn.softmax(z5)\n",
        "\n",
        "#################### END ##################################\n",
        "\n",
        "\n",
        "\n",
        "\n",
        "\n",
        "# cross-entropy loss function (= -sum(yi * log(hi)) )\n",
        "# TensorFlow provides the softmax_cross_entropy_with_logits function to avoid numerical stability\n",
        "# problems with log(0) which is NaN\n",
        "cross_entropy = tf.nn.softmax_cross_entropy_with_logits(logits=z5, labels=y)\n",
        "cross_entropy = tf.reduce_mean(cross_entropy)\n",
        "\n",
        "################### END ###############################\n",
        "\n",
        "# accuracy of the trained model, between 0 (worst) and 1 (best)\n",
        "correct_prediction = tf.equal(tf.argmax(h5, 1), tf.argmax(y, 1))\n",
        "accuracy = tf.reduce_mean(tf.cast(correct_prediction, tf.float32))\n",
        "\n",
        "# training\n",
        "################# START CODE ########################\n",
        "# the learning rate is: # 0.0001 + 0.003 * (1/e)^(step/2000)), i.e. exponential decay from 0.003->0.0001\n",
        "lr = 0.0001 +  tf.train.exponential_decay(0.003, step_val, 2000, 1/math.e)\n",
        "train_step = None\n",
        "\n",
        "\n",
        "################# END ###############################"
      ],
      "execution_count": 0,
      "outputs": []
    },
    {
      "metadata": {
        "id": "GkYBhaiAac8F",
        "colab_type": "text"
      },
      "cell_type": "markdown",
      "source": [
        "Start session"
      ]
    },
    {
      "metadata": {
        "id": "MgY9Nkwbab6G",
        "colab_type": "code",
        "colab": {}
      },
      "cell_type": "code",
      "source": [
        "#Start session\n",
        "\n",
        "# initialize all variables\n",
        "init = tf.global_variables_initializer()\n",
        "sess = tf.Session()\n",
        "sess.run(init)\n"
      ],
      "execution_count": 0,
      "outputs": []
    },
    {
      "metadata": {
        "id": "RbwpERfsai8-",
        "colab_type": "text"
      },
      "cell_type": "markdown",
      "source": [
        "Train & visualize train/val loss and accuracy"
      ]
    },
    {
      "metadata": {
        "id": "EXLkseb7ah-U",
        "colab_type": "code",
        "colab": {}
      },
      "cell_type": "code",
      "source": [
        "history = training(x_train, y_train, x_val, y_val, sess, epochs=100, step=True, pkeep=0.75)"
      ],
      "execution_count": 0,
      "outputs": []
    },
    {
      "metadata": {
        "id": "EqDeC51MyFnQ",
        "colab_type": "code",
        "colab": {}
      },
      "cell_type": "code",
      "source": [
        "plot_history(history)"
      ],
      "execution_count": 0,
      "outputs": []
    },
    {
      "metadata": {
        "id": "ngOoBZfnapbM",
        "colab_type": "text"
      },
      "cell_type": "markdown",
      "source": [
        "Test Accuracy"
      ]
    },
    {
      "metadata": {
        "id": "GtCnAN0laokB",
        "colab_type": "code",
        "colab": {}
      },
      "cell_type": "code",
      "source": [
        "a_test, c_test  = sess.run([accuracy, cross_entropy], feed_dict={X: x_test, y: y_test, pkeep_val: 1})\n",
        "\n",
        "print('Test accuracy is: ', (\"%.2f\"%(a_test*100))+'%')"
      ],
      "execution_count": 0,
      "outputs": []
    },
    {
      "metadata": {
        "id": "TYN3t19Eaxj0",
        "colab_type": "text"
      },
      "cell_type": "markdown",
      "source": [
        "## 9. Convolutional Neural Networks"
      ]
    },
    {
      "metadata": {
        "id": "RjxgtOMqayyx",
        "colab_type": "code",
        "colab": {}
      },
      "cell_type": "code",
      "source": [
        "''' Let Your Imagination Run Wild'''"
      ],
      "execution_count": 0,
      "outputs": []
    }
  ]
}